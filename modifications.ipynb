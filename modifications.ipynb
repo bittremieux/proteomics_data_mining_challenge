{
 "cells": [
  {
   "cell_type": "code",
   "execution_count": null,
   "metadata": {},
   "outputs": [],
   "source": [
    "import os\n",
    "\n",
    "import matplotlib.pyplot as plt\n",
    "import matplotlib.ticker as mticker\n",
    "import numpy as np\n",
    "import pandas as pd\n",
    "import pyteomics.mztab\n",
    "import seaborn as sns"
   ]
  },
  {
   "cell_type": "code",
   "execution_count": null,
   "metadata": {},
   "outputs": [],
   "source": [
    "# Plot styling.\n",
    "plt.style.use(['seaborn-white', 'seaborn-talk'])\n",
    "plt.rc('font', family='sans-serif')\n",
    "sns.set_palette('Set1')\n",
    "sns.set_context('talk')"
   ]
  },
  {
   "cell_type": "code",
   "execution_count": null,
   "metadata": {},
   "outputs": [],
   "source": [
    "classes = pd.read_csv('filenames.csv', names=['filename', 'class'])\n",
    "classes['filename'] = (classes['filename'].str.split('.')\n",
    "                       .apply(lambda x: x[0]))\n",
    "classes = classes.set_index('filename')"
   ]
  },
  {
   "cell_type": "code",
   "execution_count": null,
   "metadata": {},
   "outputs": [],
   "source": [
    "psms = []\n",
    "mztab_dir = '../data/processed/ann_solo'\n",
    "for filename in os.listdir(mztab_dir):\n",
    "    file_key = filename.split('.')[0]\n",
    "    if file_key in classes.index:\n",
    "        psms.append(pyteomics.mztab.MzTab(os.path.join(mztab_dir, filename))\n",
    "                    .spectrum_match_table[['sequence', 'charge',\n",
    "                                           'exp_mass_to_charge',\n",
    "                                           'calc_mass_to_charge',\n",
    "                                           'search_engine_score[1]']])\n",
    "psms = pd.concat(psms, ignore_index=True)"
   ]
  },
  {
   "cell_type": "code",
   "execution_count": null,
   "metadata": {},
   "outputs": [],
   "source": [
    "def get_mass_groups(ssms, tol_mass, tol_mode, min_group_size):\n",
    "    psms_remaining = ssms.sort_values('search_engine_score[1]',\n",
    "                                      ascending=False)\n",
    "    psms_remaining['mass_diff'] = ((psms_remaining['exp_mass_to_charge'] -\n",
    "                                    psms_remaining['calc_mass_to_charge']) *\n",
    "                                   psms_remaining['charge'])\n",
    "\n",
    "    # Start with the highest ranked PSM.\n",
    "    mass_groups = []\n",
    "    while psms_remaining.size > 0:\n",
    "        # Find all remaining PSMs within the mass difference window.\n",
    "        mass_diff = psms_remaining['mass_diff'].iloc[0]\n",
    "        if (tol_mass is None or tol_mode not in ('Da', 'ppm') or\n",
    "                min_group_size is None):\n",
    "            mask = np.full(len(psms_remaining), True, dtype=bool)\n",
    "        elif tol_mode == 'Da':\n",
    "            mask = (np.fabs(psms_remaining['mass_diff'] - mass_diff) <=\n",
    "                    tol_mass)\n",
    "        elif tol_mode == 'ppm':\n",
    "            mask = (np.fabs(psms_remaining['mass_diff'] - mass_diffs) /\n",
    "                    psms_remaining['exp_mass_to_charge'] * 10 ** 6\n",
    "                    <= tol_mass)\n",
    "        mass_groups.append(psms_remaining[mask])\n",
    "        # Exclude the selected PSMs from further selections.\n",
    "        psms_remaining = psms_remaining[~mask]\n",
    "\n",
    "    mass_group_stats = []\n",
    "    for mass_group in mass_groups:\n",
    "        mass_group_stats.append((mass_group['mass_diff'].median(),\n",
    "                                 mass_group['mass_diff'].mean(),\n",
    "                                 len(mass_group)))\n",
    "    mass_group_stats = pd.DataFrame.from_records(\n",
    "        mass_group_stats, columns=['mass_diff_median', 'mass_diff_mean',\n",
    "                                   'num_psms'])\n",
    "    return mass_group_stats"
   ]
  },
  {
   "cell_type": "code",
   "execution_count": null,
   "metadata": {},
   "outputs": [],
   "source": [
    "tol_mass = 0.1\n",
    "tol_mode = 'Da'\n",
    "min_group_size = 20\n",
    "mass_groups = get_mass_groups(psms, tol_mass, tol_mode, min_group_size)"
   ]
  },
  {
   "cell_type": "code",
   "execution_count": null,
   "metadata": {},
   "outputs": [],
   "source": [
    "mass_groups.sort_values('mass_diff_median').to_csv(\n",
    "    'modifications.csv', index=False)"
   ]
  },
  {
   "cell_type": "code",
   "execution_count": null,
   "metadata": {},
   "outputs": [],
   "source": [
    "print(f'Number of PSMs: {len(psms):,}')\n",
    "num_modified = (mass_groups[mass_groups['mass_diff_mean'].abs() > tol_mass]\n",
    "                ['num_psms'].sum())\n",
    "print(f'Number of modified PSMs: {num_modified:,} '\n",
    "      f'({num_modified / len(psms):.1%})')"
   ]
  },
  {
   "cell_type": "code",
   "execution_count": null,
   "metadata": {},
   "outputs": [],
   "source": [
    "mass_groups.sort_values('num_psms', ascending=False).head(20)"
   ]
  },
  {
   "cell_type": "code",
   "execution_count": null,
   "metadata": {},
   "outputs": [],
   "source": [
    "width = 7\n",
    "height = width / 1.618\n",
    "fig, ax = plt.subplots(figsize=(width * 1.5, height / 1.5))\n",
    "\n",
    "# Exclude unmodified SSMs.\n",
    "mask = mass_groups['mass_diff_median'].abs() > tol_mass\n",
    "ax.bar(mass_groups[mask]['mass_diff_median'], mass_groups[mask]['num_psms'],\n",
    "       width=0.4, color='black')\n",
    "\n",
    "# Annotate the most frequent modifications.\n",
    "modifications = [('first isotopic peak', 0, 150000),\n",
    "                 (None, 0, 0),\n",
    "                 ('oxidation', 0, 80000),\n",
    "                 (None, 0, 0),\n",
    "                 (None, 0, 0),\n",
    "                 ('dioxidation', 0, 40000),\n",
    "                 ('amidation', -15, 80000),\n",
    "                 (None, 0, 0),\n",
    "                 (None, 0, 0),\n",
    "                 (None, 0, 0),\n",
    "                 (None, 0, 0),\n",
    "                 (None, 0, 0),\n",
    "                 ('Asn → Trp\\nsubstitution', 0, 40000),\n",
    "                 (None, 0, 0),\n",
    "                 (None, 0, 0),\n",
    "                 (None, 0, 0),\n",
    "                 ('3 protons → iron', 0, 120000)]\n",
    "for (annot, x, y), mass_group in zip(\n",
    "        modifications, mass_groups.sort_values(\n",
    "            'num_psms', ascending=False).head(20)[1:].itertuples()):\n",
    "    if annot is not None:\n",
    "        ax.annotate(\n",
    "            annot,\n",
    "            (mass_group.mass_diff_median, mass_group.num_psms + 5000),\n",
    "            (mass_group.mass_diff_median + x, y),\n",
    "            arrowprops={'arrowstyle': '<-', 'linewidth': 1}, ha='center')\n",
    "\n",
    "ax.set_xlim((-50, 100))\n",
    "\n",
    "# Format y-axis numbers.\n",
    "ax.yaxis.set_major_formatter(mticker.StrMethodFormatter('{x:,g}'))\n",
    "\n",
    "sns.despine(ax=ax)\n",
    "\n",
    "ax.set_xlabel('Precursor mass difference (Da)')\n",
    "ax.set_ylabel(f'Number of PSMs')\n",
    "\n",
    "plt.savefig('mass_diff.png', dpi=300, bbox_inches='tight')\n",
    "plt.show()\n",
    "plt.close()"
   ]
  }
 ],
 "metadata": {
  "kernelspec": {
   "display_name": "Python 3",
   "language": "python",
   "name": "python3"
  },
  "language_info": {
   "codemirror_mode": {
    "name": "ipython",
    "version": 3
   },
   "file_extension": ".py",
   "mimetype": "text/x-python",
   "name": "python",
   "nbconvert_exporter": "python",
   "pygments_lexer": "ipython3",
   "version": "3.7.5"
  }
 },
 "nbformat": 4,
 "nbformat_minor": 2
}
